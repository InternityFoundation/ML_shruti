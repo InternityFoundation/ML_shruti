{
 "cells": [
  {
   "cell_type": "markdown",
   "metadata": {},
   "source": [
    "<b>Importing the libraries <b>"
   ]
  },
  {
   "cell_type": "code",
   "execution_count": 1,
   "metadata": {},
   "outputs": [],
   "source": [
    "import numpy as np\n",
    "import matplotlib.pyplot as plt\n",
    "import pandas as pd"
   ]
  },
  {
   "cell_type": "markdown",
   "metadata": {},
   "source": [
    "<b>Importing the dataset<b>"
   ]
  },
  {
   "cell_type": "code",
   "execution_count": 2,
   "metadata": {},
   "outputs": [],
   "source": [
    "dataset = pd.read_csv('Churn_Modelling.csv')\n",
    "X = dataset.iloc[:, 3:13].values\n",
    "y = dataset.iloc[:, 13].values\n"
   ]
  },
  {
   "cell_type": "markdown",
   "metadata": {},
   "source": [
    "# Encoding categorical data because we have some categorical variables in our dataset"
   ]
  },
  {
   "cell_type": "code",
   "execution_count": 3,
   "metadata": {},
   "outputs": [],
   "source": [
    "from sklearn.preprocessing import LabelEncoder, OneHotEncoder\n",
    "labelencoder_X_1 = LabelEncoder()\n",
    "X[:, 1] = labelencoder_X_1.fit_transform(X[:, 1])\n",
    "labelencoder_X_2 = LabelEncoder()\n",
    "X[:, 2] = labelencoder_X_2.fit_transform(X[:, 2])\n",
    "onehotencoder = OneHotEncoder(categorical_features = [1])\n",
    "X = onehotencoder.fit_transform(X).toarray()\n",
    "X = X[:, 1:]"
   ]
  },
  {
   "cell_type": "markdown",
   "metadata": {},
   "source": [
    "# Splitting the dataset into the Training set and Test set"
   ]
  },
  {
   "cell_type": "code",
   "execution_count": 4,
   "metadata": {},
   "outputs": [],
   "source": [
    "from sklearn.model_selection import train_test_split\n",
    "X_train, X_test, y_train, y_test = train_test_split(X, y, test_size = 0.2, random_state = 0)\n"
   ]
  },
  {
   "cell_type": "markdown",
   "metadata": {},
   "source": [
    "# Feature Scaling"
   ]
  },
  {
   "cell_type": "code",
   "execution_count": 5,
   "metadata": {},
   "outputs": [],
   "source": [
    "from sklearn.preprocessing import StandardScaler\n",
    "sc = StandardScaler()\n",
    "X_train = sc.fit_transform(X_train)\n",
    "X_test = sc.transform(X_test)"
   ]
  },
  {
   "cell_type": "markdown",
   "metadata": {},
   "source": [
    "Making the KNN"
   ]
  },
  {
   "cell_type": "markdown",
   "metadata": {},
   "source": [
    "Importing the Keras libraries and packages"
   ]
  },
  {
   "cell_type": "code",
   "execution_count": 6,
   "metadata": {},
   "outputs": [
    {
     "name": "stderr",
     "output_type": "stream",
     "text": [
      "C:\\ProgramData\\Anaconda3\\lib\\site-packages\\h5py\\__init__.py:36: FutureWarning: Conversion of the second argument of issubdtype from `float` to `np.floating` is deprecated. In future, it will be treated as `np.float64 == np.dtype(float).type`.\n",
      "  from ._conv import register_converters as _register_converters\n",
      "Using TensorFlow backend.\n"
     ]
    }
   ],
   "source": [
    "import keras\n",
    "from keras.models import Sequential\n",
    "from keras.layers import Dense"
   ]
  },
  {
   "cell_type": "markdown",
   "metadata": {},
   "source": [
    "# Initialising the ANN"
   ]
  },
  {
   "cell_type": "code",
   "execution_count": 7,
   "metadata": {},
   "outputs": [],
   "source": [
    "classifier = Sequential()"
   ]
  },
  {
   "cell_type": "markdown",
   "metadata": {},
   "source": [
    "# Adding the input layer and the first hidden layer"
   ]
  },
  {
   "cell_type": "code",
   "execution_count": 8,
   "metadata": {},
   "outputs": [
    {
     "name": "stderr",
     "output_type": "stream",
     "text": [
      "C:\\ProgramData\\Anaconda3\\lib\\site-packages\\ipykernel_launcher.py:1: UserWarning: Update your `Dense` call to the Keras 2 API: `Dense(activation=\"relu\", input_dim=11, units=6, kernel_initializer=\"uniform\")`\n",
      "  \"\"\"Entry point for launching an IPython kernel.\n"
     ]
    }
   ],
   "source": [
    "classifier.add(Dense(output_dim = 6, init = 'uniform', activation = 'relu', input_dim = 11))"
   ]
  },
  {
   "cell_type": "markdown",
   "metadata": {},
   "source": [
    "# Adding the second hidden layer"
   ]
  },
  {
   "cell_type": "code",
   "execution_count": 9,
   "metadata": {},
   "outputs": [
    {
     "name": "stderr",
     "output_type": "stream",
     "text": [
      "C:\\ProgramData\\Anaconda3\\lib\\site-packages\\ipykernel_launcher.py:1: UserWarning: Update your `Dense` call to the Keras 2 API: `Dense(activation=\"relu\", units=6, kernel_initializer=\"uniform\")`\n",
      "  \"\"\"Entry point for launching an IPython kernel.\n"
     ]
    }
   ],
   "source": [
    "classifier.add(Dense(output_dim = 6, init = 'uniform', activation = 'relu'))"
   ]
  },
  {
   "cell_type": "markdown",
   "metadata": {},
   "source": [
    "# Adding the output layer"
   ]
  },
  {
   "cell_type": "code",
   "execution_count": 10,
   "metadata": {},
   "outputs": [
    {
     "name": "stderr",
     "output_type": "stream",
     "text": [
      "C:\\ProgramData\\Anaconda3\\lib\\site-packages\\ipykernel_launcher.py:1: UserWarning: Update your `Dense` call to the Keras 2 API: `Dense(activation=\"sigmoid\", units=1, kernel_initializer=\"uniform\")`\n",
      "  \"\"\"Entry point for launching an IPython kernel.\n"
     ]
    }
   ],
   "source": [
    "classifier.add(Dense(output_dim = 1, init = 'uniform', activation = 'sigmoid'))"
   ]
  },
  {
   "cell_type": "markdown",
   "metadata": {},
   "source": [
    "# Compiling the ANN"
   ]
  },
  {
   "cell_type": "code",
   "execution_count": 12,
   "metadata": {},
   "outputs": [],
   "source": [
    "classifier.compile(optimizer = 'adam', loss = 'binary_crossentropy', metrics = ['accuracy'])\n"
   ]
  },
  {
   "cell_type": "markdown",
   "metadata": {},
   "source": [
    "# Fitting the ANN to the Training set now"
   ]
  },
  {
   "cell_type": "code",
   "execution_count": 13,
   "metadata": {},
   "outputs": [
    {
     "name": "stderr",
     "output_type": "stream",
     "text": [
      "C:\\ProgramData\\Anaconda3\\lib\\site-packages\\keras\\models.py:981: UserWarning: The `nb_epoch` argument in `fit` has been renamed `epochs`.\n",
      "  warnings.warn('The `nb_epoch` argument in `fit` '\n"
     ]
    },
    {
     "name": "stdout",
     "output_type": "stream",
     "text": [
      "Epoch 1/100\n",
      "8000/8000 [==============================] - 4s 456us/step - loss: 0.4865 - acc: 0.7956\n",
      "Epoch 2/100\n",
      "8000/8000 [==============================] - 1s 124us/step - loss: 0.4290 - acc: 0.7960\n",
      "Epoch 3/100\n",
      "8000/8000 [==============================] - 1s 120us/step - loss: 0.4232 - acc: 0.7960\n",
      "Epoch 4/100\n",
      "8000/8000 [==============================] - 1s 128us/step - loss: 0.4186 - acc: 0.8122\n",
      "Epoch 5/100\n",
      "8000/8000 [==============================] - 1s 123us/step - loss: 0.4160 - acc: 0.8267\n",
      "Epoch 6/100\n",
      "8000/8000 [==============================] - 1s 120us/step - loss: 0.4143 - acc: 0.8295\n",
      "Epoch 7/100\n",
      "8000/8000 [==============================] - 1s 131us/step - loss: 0.4126 - acc: 0.8326\n",
      "Epoch 8/100\n",
      "8000/8000 [==============================] - 1s 121us/step - loss: 0.4109 - acc: 0.8321\n",
      "Epoch 9/100\n",
      "8000/8000 [==============================] - 1s 116us/step - loss: 0.4097 - acc: 0.8322\n",
      "Epoch 10/100\n",
      "8000/8000 [==============================] - 1s 117us/step - loss: 0.4087 - acc: 0.8320\n",
      "Epoch 11/100\n",
      "8000/8000 [==============================] - 1s 138us/step - loss: 0.4083 - acc: 0.8331\n",
      "Epoch 12/100\n",
      "8000/8000 [==============================] - 1s 140us/step - loss: 0.4074 - acc: 0.8327\n",
      "Epoch 13/100\n",
      "8000/8000 [==============================] - 1s 135us/step - loss: 0.4068 - acc: 0.8351\n",
      "Epoch 14/100\n",
      "8000/8000 [==============================] - 1s 136us/step - loss: 0.4059 - acc: 0.8360\n",
      "Epoch 15/100\n",
      "8000/8000 [==============================] - 1s 143us/step - loss: 0.4059 - acc: 0.8335\n",
      "Epoch 16/100\n",
      "8000/8000 [==============================] - 1s 137us/step - loss: 0.4055 - acc: 0.8332\n",
      "Epoch 17/100\n",
      "8000/8000 [==============================] - 1s 135us/step - loss: 0.4049 - acc: 0.8347\n",
      "Epoch 18/100\n",
      "8000/8000 [==============================] - 1s 133us/step - loss: 0.4047 - acc: 0.8344\n",
      "Epoch 19/100\n",
      "8000/8000 [==============================] - 1s 129us/step - loss: 0.4045 - acc: 0.8332\n",
      "Epoch 20/100\n",
      "8000/8000 [==============================] - 1s 131us/step - loss: 0.4037 - acc: 0.8352\n",
      "Epoch 21/100\n",
      "8000/8000 [==============================] - 1s 131us/step - loss: 0.4037 - acc: 0.8347\n",
      "Epoch 22/100\n",
      "8000/8000 [==============================] - 1s 141us/step - loss: 0.4035 - acc: 0.8361\n",
      "Epoch 23/100\n",
      "8000/8000 [==============================] - 1s 130us/step - loss: 0.4032 - acc: 0.8354\n",
      "Epoch 24/100\n",
      "8000/8000 [==============================] - 1s 130us/step - loss: 0.4033 - acc: 0.8347\n",
      "Epoch 25/100\n",
      "8000/8000 [==============================] - 1s 130us/step - loss: 0.4025 - acc: 0.8344\n",
      "Epoch 26/100\n",
      "8000/8000 [==============================] - 1s 131us/step - loss: 0.4021 - acc: 0.8347\n",
      "Epoch 27/100\n",
      "8000/8000 [==============================] - 1s 131us/step - loss: 0.4021 - acc: 0.8341\n",
      "Epoch 28/100\n",
      "8000/8000 [==============================] - 1s 131us/step - loss: 0.4019 - acc: 0.8339\n",
      "Epoch 29/100\n",
      "8000/8000 [==============================] - 1s 131us/step - loss: 0.4017 - acc: 0.8352\n",
      "Epoch 30/100\n",
      "8000/8000 [==============================] - 1s 132us/step - loss: 0.4018 - acc: 0.8342\n",
      "Epoch 31/100\n",
      "8000/8000 [==============================] - 1s 131us/step - loss: 0.4017 - acc: 0.8354\n",
      "Epoch 32/100\n",
      "8000/8000 [==============================] - 1s 137us/step - loss: 0.4016 - acc: 0.8331\n",
      "Epoch 33/100\n",
      "8000/8000 [==============================] - 1s 132us/step - loss: 0.4011 - acc: 0.8342\n",
      "Epoch 34/100\n",
      "8000/8000 [==============================] - 1s 133us/step - loss: 0.4020 - acc: 0.8359\n",
      "Epoch 35/100\n",
      "8000/8000 [==============================] - 1s 133us/step - loss: 0.4015 - acc: 0.8331\n",
      "Epoch 36/100\n",
      "8000/8000 [==============================] - 1s 133us/step - loss: 0.4012 - acc: 0.8346\n",
      "Epoch 37/100\n",
      "8000/8000 [==============================] - 1s 133us/step - loss: 0.4010 - acc: 0.8340\n",
      "Epoch 38/100\n",
      "8000/8000 [==============================] - 1s 132us/step - loss: 0.4012 - acc: 0.8344\n",
      "Epoch 39/100\n",
      "8000/8000 [==============================] - 1s 134us/step - loss: 0.4011 - acc: 0.8356\n",
      "Epoch 40/100\n",
      "8000/8000 [==============================] - 1s 134us/step - loss: 0.4005 - acc: 0.8365\n",
      "Epoch 41/100\n",
      "8000/8000 [==============================] - 1s 134us/step - loss: 0.4010 - acc: 0.8349\n",
      "Epoch 42/100\n",
      "8000/8000 [==============================] - 1s 134us/step - loss: 0.4012 - acc: 0.8340\n",
      "Epoch 43/100\n",
      "8000/8000 [==============================] - 1s 135us/step - loss: 0.4007 - acc: 0.8359\n",
      "Epoch 44/100\n",
      "8000/8000 [==============================] - 1s 134us/step - loss: 0.4007 - acc: 0.8365\n",
      "Epoch 45/100\n",
      "8000/8000 [==============================] - 1s 134us/step - loss: 0.4008 - acc: 0.8352\n",
      "Epoch 46/100\n",
      "8000/8000 [==============================] - 1s 133us/step - loss: 0.4008 - acc: 0.8352\n",
      "Epoch 47/100\n",
      "8000/8000 [==============================] - 1s 134us/step - loss: 0.4004 - acc: 0.8356\n",
      "Epoch 48/100\n",
      "8000/8000 [==============================] - 1s 133us/step - loss: 0.4007 - acc: 0.8334\n",
      "Epoch 49/100\n",
      "8000/8000 [==============================] - 1s 136us/step - loss: 0.4010 - acc: 0.8336\n",
      "Epoch 50/100\n",
      "8000/8000 [==============================] - 1s 134us/step - loss: 0.4008 - acc: 0.8365\n",
      "Epoch 51/100\n",
      "8000/8000 [==============================] - 1s 138us/step - loss: 0.4005 - acc: 0.8357\n",
      "Epoch 52/100\n",
      "8000/8000 [==============================] - 1s 134us/step - loss: 0.4003 - acc: 0.8347\n",
      "Epoch 53/100\n",
      "8000/8000 [==============================] - 1s 136us/step - loss: 0.4009 - acc: 0.8352\n",
      "Epoch 54/100\n",
      "8000/8000 [==============================] - 1s 138us/step - loss: 0.4000 - acc: 0.8332\n",
      "Epoch 55/100\n",
      "8000/8000 [==============================] - 1s 135us/step - loss: 0.4005 - acc: 0.8350\n",
      "Epoch 56/100\n",
      "8000/8000 [==============================] - 1s 136us/step - loss: 0.4010 - acc: 0.8356\n",
      "Epoch 57/100\n",
      "8000/8000 [==============================] - 1s 136us/step - loss: 0.4004 - acc: 0.8354\n",
      "Epoch 58/100\n",
      "8000/8000 [==============================] - 1s 137us/step - loss: 0.4001 - acc: 0.8350\n",
      "Epoch 59/100\n",
      "8000/8000 [==============================] - 1s 138us/step - loss: 0.4005 - acc: 0.8354\n",
      "Epoch 60/100\n",
      "8000/8000 [==============================] - 1s 137us/step - loss: 0.4005 - acc: 0.8336\n",
      "Epoch 61/100\n",
      "8000/8000 [==============================] - 1s 136us/step - loss: 0.4001 - acc: 0.8354\n",
      "Epoch 62/100\n",
      "8000/8000 [==============================] - 1s 135us/step - loss: 0.4004 - acc: 0.8341\n",
      "Epoch 63/100\n",
      "8000/8000 [==============================] - 1s 136us/step - loss: 0.4001 - acc: 0.8350\n",
      "Epoch 64/100\n",
      "8000/8000 [==============================] - 1s 136us/step - loss: 0.4005 - acc: 0.8342\n",
      "Epoch 65/100\n",
      "8000/8000 [==============================] - 1s 137us/step - loss: 0.4004 - acc: 0.8351\n",
      "Epoch 66/100\n",
      "8000/8000 [==============================] - 1s 137us/step - loss: 0.4004 - acc: 0.8344\n",
      "Epoch 67/100\n",
      "8000/8000 [==============================] - 1s 139us/step - loss: 0.4005 - acc: 0.8335\n",
      "Epoch 68/100\n",
      "8000/8000 [==============================] - 1s 137us/step - loss: 0.4002 - acc: 0.8351\n",
      "Epoch 69/100\n",
      "8000/8000 [==============================] - 1s 147us/step - loss: 0.4004 - acc: 0.8345\n",
      "Epoch 70/100\n",
      "8000/8000 [==============================] - 1s 150us/step - loss: 0.4005 - acc: 0.8346\n",
      "Epoch 71/100\n",
      "8000/8000 [==============================] - 1s 138us/step - loss: 0.4002 - acc: 0.8347\n",
      "Epoch 72/100\n",
      "8000/8000 [==============================] - 1s 139us/step - loss: 0.4004 - acc: 0.8359\n",
      "Epoch 73/100\n",
      "8000/8000 [==============================] - 1s 140us/step - loss: 0.4001 - acc: 0.8349\n",
      "Epoch 74/100\n",
      "8000/8000 [==============================] - 1s 138us/step - loss: 0.3999 - acc: 0.8356\n",
      "Epoch 75/100\n",
      "8000/8000 [==============================] - 1s 142us/step - loss: 0.4000 - acc: 0.8352\n",
      "Epoch 76/100\n",
      "8000/8000 [==============================] - 1s 141us/step - loss: 0.3999 - acc: 0.8349\n",
      "Epoch 77/100\n",
      "8000/8000 [==============================] - 1s 154us/step - loss: 0.4003 - acc: 0.8355\n",
      "Epoch 78/100\n",
      "8000/8000 [==============================] - 1s 154us/step - loss: 0.4002 - acc: 0.8357\n",
      "Epoch 79/100\n",
      "8000/8000 [==============================] - 1s 141us/step - loss: 0.3999 - acc: 0.8359\n",
      "Epoch 80/100\n",
      "8000/8000 [==============================] - 1s 142us/step - loss: 0.3997 - acc: 0.8350\n",
      "Epoch 81/100\n",
      "8000/8000 [==============================] - 1s 140us/step - loss: 0.3998 - acc: 0.8341\n",
      "Epoch 82/100\n"
     ]
    },
    {
     "name": "stdout",
     "output_type": "stream",
     "text": [
      "8000/8000 [==============================] - 1s 126us/step - loss: 0.4001 - acc: 0.8344\n",
      "Epoch 83/100\n",
      "8000/8000 [==============================] - 1s 125us/step - loss: 0.4001 - acc: 0.8339\n",
      "Epoch 84/100\n",
      "8000/8000 [==============================] - 1s 125us/step - loss: 0.4002 - acc: 0.8341\n",
      "Epoch 85/100\n",
      "8000/8000 [==============================] - 1s 125us/step - loss: 0.4002 - acc: 0.8349\n",
      "Epoch 86/100\n",
      "8000/8000 [==============================] - 1s 124us/step - loss: 0.4002 - acc: 0.8346\n",
      "Epoch 87/100\n",
      "8000/8000 [==============================] - 1s 124us/step - loss: 0.4001 - acc: 0.8360\n",
      "Epoch 88/100\n",
      "8000/8000 [==============================] - 1s 123us/step - loss: 0.3999 - acc: 0.8351\n",
      "Epoch 89/100\n",
      "8000/8000 [==============================] - 1s 126us/step - loss: 0.3999 - acc: 0.8364\n",
      "Epoch 90/100\n",
      "8000/8000 [==============================] - 1s 125us/step - loss: 0.4000 - acc: 0.8341\n",
      "Epoch 91/100\n",
      "8000/8000 [==============================] - 1s 126us/step - loss: 0.4001 - acc: 0.8341\n",
      "Epoch 92/100\n",
      "8000/8000 [==============================] - 1s 125us/step - loss: 0.3998 - acc: 0.8359\n",
      "Epoch 93/100\n",
      "8000/8000 [==============================] - 1s 125us/step - loss: 0.4002 - acc: 0.8351\n",
      "Epoch 94/100\n",
      "8000/8000 [==============================] - 1s 127us/step - loss: 0.3997 - acc: 0.8347\n",
      "Epoch 95/100\n",
      "8000/8000 [==============================] - 1s 126us/step - loss: 0.4000 - acc: 0.8350\n",
      "Epoch 96/100\n",
      "8000/8000 [==============================] - 1s 127us/step - loss: 0.4003 - acc: 0.8339\n",
      "Epoch 97/100\n",
      "8000/8000 [==============================] - 1s 126us/step - loss: 0.4000 - acc: 0.8365\n",
      "Epoch 98/100\n",
      "8000/8000 [==============================] - 1s 126us/step - loss: 0.3998 - acc: 0.8351\n",
      "Epoch 99/100\n",
      "8000/8000 [==============================] - 1s 126us/step - loss: 0.3999 - acc: 0.8351\n",
      "Epoch 100/100\n",
      "8000/8000 [==============================] - 1s 134us/step - loss: 0.4002 - acc: 0.8351\n"
     ]
    },
    {
     "data": {
      "text/plain": [
       "<keras.callbacks.History at 0x1f282c29f60>"
      ]
     },
     "execution_count": 13,
     "metadata": {},
     "output_type": "execute_result"
    }
   ],
   "source": [
    "classifier.fit(X_train, y_train, batch_size = 10, nb_epoch = 100)\n"
   ]
  },
  {
   "cell_type": "markdown",
   "metadata": {},
   "source": [
    "\n",
    "\n",
    "# Predicting the Test set results"
   ]
  },
  {
   "cell_type": "code",
   "execution_count": 14,
   "metadata": {},
   "outputs": [],
   "source": [
    "y_pred = classifier.predict(X_test)\n",
    "y_pred = (y_pred > 0.5)"
   ]
  },
  {
   "cell_type": "markdown",
   "metadata": {},
   "source": [
    "# Making the Confusion Matrix"
   ]
  },
  {
   "cell_type": "code",
   "execution_count": 15,
   "metadata": {},
   "outputs": [],
   "source": [
    "from sklearn.metrics import confusion_matrix\n",
    "cm = confusion_matrix(y_test, y_pred)"
   ]
  },
  {
   "cell_type": "code",
   "execution_count": 16,
   "metadata": {},
   "outputs": [
    {
     "data": {
      "text/plain": [
       "array([[1538,   57],\n",
       "       [ 255,  150]], dtype=int64)"
      ]
     },
     "execution_count": 16,
     "metadata": {},
     "output_type": "execute_result"
    }
   ],
   "source": [
    "cm"
   ]
  },
  {
   "cell_type": "code",
   "execution_count": null,
   "metadata": {},
   "outputs": [],
   "source": []
  }
 ],
 "metadata": {
  "kernelspec": {
   "display_name": "Python 3",
   "language": "python",
   "name": "python3"
  },
  "language_info": {
   "codemirror_mode": {
    "name": "ipython",
    "version": 3
   },
   "file_extension": ".py",
   "mimetype": "text/x-python",
   "name": "python",
   "nbconvert_exporter": "python",
   "pygments_lexer": "ipython3",
   "version": "3.6.4"
  }
 },
 "nbformat": 4,
 "nbformat_minor": 2
}
